{
 "cells": [
  {
   "cell_type": "code",
   "execution_count": 5,
   "id": "bbe41f09-0992-4790-9599-c7401c6c537e",
   "metadata": {},
   "outputs": [
    {
     "name": "stdout",
     "output_type": "stream",
     "text": [
      "Name: Tanushri Kharkar\n"
     ]
    },
    {
     "name": "stdin",
     "output_type": "stream",
     "text": [
      "Enter a list of numbers separated by spaces:  25 16 2 30 45 1\n"
     ]
    },
    {
     "name": "stdout",
     "output_type": "stream",
     "text": [
      "Step 1: Array: [1, 16, 2, 30, 45, 25], Heuristics: [1, 256, 4, 900, 2025, 625]\n",
      "Step 2: Array: [1, 2, 16, 30, 45, 25], Heuristics: [1, 4, 256, 900, 2025, 625]\n",
      "Step 3: Array: [1, 2, 16, 30, 45, 25], Heuristics: [1, 4, 256, 900, 2025, 625]\n",
      "Step 4: Array: [1, 2, 16, 25, 45, 30], Heuristics: [1, 4, 256, 625, 2025, 900]\n",
      "Step 5: Array: [1, 2, 16, 25, 30, 45], Heuristics: [1, 4, 256, 625, 900, 2025]\n",
      "Step 6: Array: [1, 2, 16, 25, 30, 45], Heuristics: [1, 4, 256, 625, 900, 2025]\n",
      "\n",
      "Sorted array (based on heuristic): [1, 2, 16, 25, 30, 45]\n"
     ]
    }
   ],
   "source": [
    "def selection_sort_with_heuristic(arr, heuristic_func):\n",
    "    \"\"\"\n",
    "    Performs Selection Sort, incorporating a heuristic function for comparisons.\n",
    "    \n",
    "    :param arr: List of numbers to sort.\n",
    "    :param heuristic_func: Function to calculate heuristic values for elements.\n",
    "    :return: Sorted array.\n",
    "    \"\"\"\n",
    "    # Traverse through all array elements\n",
    "    for i in range(len(arr)):\n",
    "        # Find the minimum element in remaining unsorted array based on heuristic\n",
    "        min_index = i\n",
    "        for j in range(i + 1, len(arr)):\n",
    "            # Compare elements using the heuristic function\n",
    "            if heuristic_func(arr[j]) < heuristic_func(arr[min_index]):\n",
    "                min_index = j\n",
    "        \n",
    "        # Swap the found minimum element with the first element of the unsorted array\n",
    "        arr[i], arr[min_index] = arr[min_index], arr[i]\n",
    "        # Print the heuristic values for the array at each step\n",
    "        print(f\"Step {i + 1}: Array: {arr}, Heuristics: {[heuristic_func(x) for x in arr]}\")\n",
    "    \n",
    "    return arr\n",
    "\n",
    "# Example heuristic function\n",
    "def heuristic_func(x):\n",
    "    # Example heuristic: Use the square of the number as the heuristic value\n",
    "    return x ** 2\n",
    "\n",
    "# ----------- INPUT SECTION -------------\n",
    "print(\"Name: Tanushri Kharkar\")\n",
    "\n",
    "\n",
    "# Get input from user\n",
    "user_input = input(\"Enter a list of numbers separated by spaces: \")\n",
    "arr = list(map(int, user_input.strip().split()))\n",
    "\n",
    "# Run the sorting algorithm\n",
    "sorted_arr = selection_sort_with_heuristic(arr, heuristic_func)\n",
    "\n",
    "# Output the sorted array\n",
    "print(f\"\\nSorted array (based on heuristic): {sorted_arr}\")\n"
   ]
  },
  {
   "cell_type": "code",
   "execution_count": null,
   "id": "91733c06-c9ed-4237-a6a7-c1deefc62bcc",
   "metadata": {},
   "outputs": [],
   "source": []
  }
 ],
 "metadata": {
  "kernelspec": {
   "display_name": "Python 3 (ipykernel)",
   "language": "python",
   "name": "python3"
  },
  "language_info": {
   "codemirror_mode": {
    "name": "ipython",
    "version": 3
   },
   "file_extension": ".py",
   "mimetype": "text/x-python",
   "name": "python",
   "nbconvert_exporter": "python",
   "pygments_lexer": "ipython3",
   "version": "3.12.0"
  }
 },
 "nbformat": 4,
 "nbformat_minor": 5
}
