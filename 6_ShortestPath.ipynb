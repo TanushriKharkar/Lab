{
 "cells": [
  {
   "cell_type": "code",
   "execution_count": 1,
   "id": "8193567d-eb2e-472d-a41d-90b6874e35ef",
   "metadata": {},
   "outputs": [
    {
     "name": "stdout",
     "output_type": "stream",
     "text": [
      "\n",
      "Name:Tanushri Kharkar\n"
     ]
    },
    {
     "name": "stdin",
     "output_type": "stream",
     "text": [
      "Enter the number of edges:  6\n",
      "Enter the edge (source destination weight):  A B 2\n",
      "Enter the edge (source destination weight):  A C 5\n",
      "Enter the edge (source destination weight):  B C 1\n",
      "Enter the edge (source destination weight):  B D 3\n",
      "Enter the edge (source destination weight):  C D 1\n",
      "Enter the edge (source destination weight):  D D 0\n",
      "Enter the source node:  A\n"
     ]
    },
    {
     "name": "stdout",
     "output_type": "stream",
     "text": [
      "Shortest distances from source node: {'A': 0, 'B': 2, 'C': 3, 'D': 4}\n",
      "\n",
      "Heuristic Function Used:\n",
      "f(node) = distances[node] (minimized at each step)\n",
      "At each step, the algorithm greedily selects the node with the smallest known distance from the source node and updates the distances of its neighbors.\n"
     ]
    }
   ],
   "source": [
    "import sys\n",
    "\n",
    "# Print Name \n",
    "print(\"\\nName:Tanushri Kharkar\")\n",
    "\n",
    "\n",
    "def greedy_search(graph, source):\n",
    "    distances = {node: sys.maxsize for node in graph}\n",
    "    distances[source] = 0\n",
    "    unvisited = set(graph.keys())\n",
    "\n",
    "    while unvisited:\n",
    "        # Choose the node with the smallest distance (greedy choice)\n",
    "        current_node = min(unvisited, key=lambda node: distances[node])\n",
    "        unvisited.remove(current_node)\n",
    "\n",
    "        # Update the distances of the neighbors of the current node\n",
    "        for neighbor, weight in graph[current_node].items():\n",
    "            if neighbor in unvisited:\n",
    "                new_distance = distances[current_node] + weight\n",
    "                if new_distance < distances[neighbor]:\n",
    "                    distances[neighbor] = new_distance\n",
    "\n",
    "    # Ensure all nodes appear in the result\n",
    "    for node in graph:\n",
    "        if node not in distances:\n",
    "            distances[node] = sys.maxsize  # This node is unreachable\n",
    "    return distances\n",
    "\n",
    "# Main part of the program\n",
    "graph = {}\n",
    "n = int(input(\"Enter the number of edges: \"))\n",
    "for i in range(n):\n",
    "    edge = input(\"Enter the edge (source destination weight): \").split()\n",
    "    source, destination, weight = edge[0], edge[1], int(edge[2])\n",
    "    if source not in graph:\n",
    "        graph[source] = {}\n",
    "    graph[source][destination] = weight\n",
    "\n",
    "source = input(\"Enter the source node: \")\n",
    "distances = greedy_search(graph, source)\n",
    "\n",
    "# Ensure every node is included in the output, even if unreachable (set as infinity)\n",
    "print(\"Shortest distances from source node:\", distances)\n",
    "\n",
    "# Print the heuristic explanation\n",
    "print(\"\\nHeuristic Function Used:\")\n",
    "print(\"f(node) = distances[node] (minimized at each step)\")\n",
    "print(\"At each step, the algorithm greedily selects the node with the smallest known \"\n",
    "      \"distance from the source node and updates the distances of its neighbors.\")\n"
   ]
  },
  {
   "cell_type": "code",
   "execution_count": null,
   "id": "4c69424b-9b74-4a0c-a9c1-265d76d7c2d9",
   "metadata": {},
   "outputs": [],
   "source": []
  }
 ],
 "metadata": {
  "kernelspec": {
   "display_name": "Python 3 (ipykernel)",
   "language": "python",
   "name": "python3"
  },
  "language_info": {
   "codemirror_mode": {
    "name": "ipython",
    "version": 3
   },
   "file_extension": ".py",
   "mimetype": "text/x-python",
   "name": "python",
   "nbconvert_exporter": "python",
   "pygments_lexer": "ipython3",
   "version": "3.12.0"
  }
 },
 "nbformat": 4,
 "nbformat_minor": 5
}
