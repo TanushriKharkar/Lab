{
 "cells": [
  {
   "cell_type": "code",
   "execution_count": 1,
   "id": "01fe134b-0a9d-443c-ba7a-1975c68f8e69",
   "metadata": {},
   "outputs": [],
   "source": [
    "from collections import defaultdict"
   ]
  },
  {
   "cell_type": "code",
   "execution_count": 2,
   "id": "eb85d9a2-f5a8-4b19-89a1-d05f66b0ac61",
   "metadata": {},
   "outputs": [],
   "source": [
    "# DFS implementation\n",
    "def dfs(graph, start, key):\n",
    "    visited = set()\n",
    "    stack = [start]\n",
    "    \n",
    "    # Preorder Traversal (visit the node first, then its neighbors)\n",
    "    def dfs_preorder(vertex):\n",
    "        visited.add(vertex)\n",
    "        preorder_result.append(vertex)\n",
    "        for neighbor in graph[vertex]:\n",
    "            if neighbor not in visited:\n",
    "                dfs_preorder(neighbor)\n",
    "\n",
    "    # Inorder Traversal (visit left neighbors first, then the node, then right neighbors)\n",
    "    def dfs_inorder(vertex):\n",
    "        visited.add(vertex)\n",
    "        neighbors = list(graph[vertex])  # We make sure the neighbors are processed in order\n",
    "        mid = len(neighbors) // 2\n",
    "        # Visit left half of the neighbors first (simulate \"left\" children)\n",
    "        for neighbor in neighbors[:mid]:\n",
    "            if neighbor not in visited:\n",
    "                dfs_inorder(neighbor)\n",
    "        inorder_result.append(vertex)  # Visit the node itself\n",
    "        # Visit right half of the neighbors next (simulate \"right\" children)\n",
    "        for neighbor in neighbors[mid:]:\n",
    "            if neighbor not in visited:\n",
    "                dfs_inorder(neighbor)\n",
    "\n",
    "    # Postorder Traversal (visit all neighbors first, then the node)\n",
    "    def dfs_postorder(vertex):\n",
    "        visited.add(vertex)\n",
    "        for neighbor in graph[vertex]:\n",
    "            if neighbor not in visited:\n",
    "                dfs_postorder(neighbor)\n",
    "        postorder_result.append(vertex)  # Visit the node last\n",
    "\n",
    "    # Perform DFS traversal and print each node till the goal is found\n",
    "    print(\"DFS Traversal (Visiting nodes till goal is found):\")\n",
    "    while stack:\n",
    "        vertex = stack.pop()\n",
    "        if vertex == key:\n",
    "            print(f\"Goal {vertex} found!\")\n",
    "            break\n",
    "        if vertex not in visited:\n",
    "            print(f\"Visiting {vertex}\")  # Print nodes during the traversal\n",
    "            visited.add(vertex)\n",
    "            stack.extend(graph[vertex] - visited)  # Add neighbors to stack\n",
    "    \n",
    "    # After finding the goal node or finishing DFS, perform the other traversals\n",
    "    print(\"\\nPerforming the ordered traversals (Preorder, Inorder, Postorder):\")\n",
    "    # Reset visited set for each traversal\n",
    "    visited.clear()\n",
    "\n",
    "    # Preorder Traversal\n",
    "    preorder_result = []\n",
    "    dfs_preorder(start)\n",
    "    print(f\"Preorder Traversal: {preorder_result}\")\n",
    "\n",
    "    # Inorder Traversal\n",
    "    visited.clear()\n",
    "    inorder_result = []\n",
    "    dfs_inorder(start)\n",
    "    print(f\"Inorder Traversal: {inorder_result}\")\n",
    "\n",
    "    # Postorder Traversal\n",
    "    visited.clear()\n",
    "    postorder_result = []\n",
    "    dfs_postorder(start)\n",
    "    print(f\"Postorder Traversal: {postorder_result}\")\n"
   ]
  },
  {
   "cell_type": "code",
   "execution_count": 3,
   "id": "35c3ec94-eb53-4e1f-a870-b45160c7799c",
   "metadata": {},
   "outputs": [
    {
     "name": "stdout",
     "output_type": "stream",
     "text": [
      "Name: Tanushri Kharkar\n"
     ]
    },
    {
     "name": "stdin",
     "output_type": "stream",
     "text": [
      "Enter the number of vertices:  3\n",
      "Enter a vertex:  0\n",
      "Enter its neighbors (separated by spaces):  1 2\n",
      "Enter a vertex:  1\n",
      "Enter its neighbors (separated by spaces):  0 2\n",
      "Enter a vertex:  2\n",
      "Enter its neighbors (separated by spaces):  0 1\n",
      "Enter the starting vertex:  1\n",
      "Enter the goal node for traversal:  2\n"
     ]
    },
    {
     "name": "stdout",
     "output_type": "stream",
     "text": [
      "DFS Traversal (Visiting nodes till goal is found):\n",
      "Visiting 1\n",
      "Goal 2 found!\n",
      "\n",
      "Performing the ordered traversals (Preorder, Inorder, Postorder):\n",
      "Preorder Traversal: ['1', '0', '2']\n",
      "Inorder Traversal: ['0', '2', '1']\n",
      "Postorder Traversal: ['2', '0', '1']\n"
     ]
    }
   ],
   "source": [
    "print(\"Name: Tanushri Kharkar\")\n",
    "\n",
    "\n",
    "# Graph construction\n",
    "graph = defaultdict(set)\n",
    "\n",
    "# Take input for the graph\n",
    "num_vertices = int(input(\"Enter the number of vertices: \"))\n",
    "\n",
    "for _ in range(num_vertices):\n",
    "    vertex = input(\"Enter a vertex: \")\n",
    "    neighbors = input(\"Enter its neighbors (separated by spaces): \").split()\n",
    "    graph[vertex].update(neighbors)\n",
    "\n",
    "start_vertex = input(\"Enter the starting vertex: \")\n",
    "goal_node = input(\"Enter the goal node for traversal: \")\n",
    "# Perform DFS traversal\n",
    "dfs(graph, start_vertex, goal_node)\n"
   ]
  },
  {
   "cell_type": "code",
   "execution_count": null,
   "id": "df7b75b2-4a8a-484d-9c1b-8d8eea5fa378",
   "metadata": {},
   "outputs": [],
   "source": []
  }
 ],
 "metadata": {
  "kernelspec": {
   "display_name": "Python 3 (ipykernel)",
   "language": "python",
   "name": "python3"
  },
  "language_info": {
   "codemirror_mode": {
    "name": "ipython",
    "version": 3
   },
   "file_extension": ".py",
   "mimetype": "text/x-python",
   "name": "python",
   "nbconvert_exporter": "python",
   "pygments_lexer": "ipython3",
   "version": "3.12.0"
  }
 },
 "nbformat": 4,
 "nbformat_minor": 5
}
