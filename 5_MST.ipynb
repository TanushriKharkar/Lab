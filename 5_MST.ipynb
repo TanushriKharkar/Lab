{
 "cells": [
  {
   "cell_type": "code",
   "execution_count": 2,
   "id": "a914374d-ef56-4b03-b1c0-f91fce6ad306",
   "metadata": {},
   "outputs": [
    {
     "name": "stdout",
     "output_type": "stream",
     "text": [
      "Name: Tanushri Kharkar\n"
     ]
    },
    {
     "name": "stdin",
     "output_type": "stream",
     "text": [
      "Enter the number of vertices:  4\n",
      "Enter the number of edges:  6\n",
      "Enter edge (u v weight):  0 1 2\n",
      "Enter edge (u v weight):  0 2 4\n",
      "Enter edge (u v weight):  2 3 1\n",
      "Enter edge (u v weight):  1 3 3\n",
      "Enter edge (u v weight):  0 3 4\n",
      "Enter edge (u v weight):  1 2 2\n"
     ]
    },
    {
     "name": "stdout",
     "output_type": "stream",
     "text": [
      "Minimum Spanning Tree using Kruskal's Algorithm: [(2, 3, 1), (0, 1, 2), (1, 2, 2)]\n",
      "Total cost of the Minimum Spanning Tree: 5\n",
      "\n",
      "Expression for Edge Selection in Kruskal's Algorithm:\n",
      "f(u, v) = w(u, v) if find(u) != find(v)\n"
     ]
    }
   ],
   "source": [
    "class DisjointSet:\n",
    "    def __init__(self, n):\n",
    "        self.parent = list(range(n))\n",
    "        self.rank = [0] * n\n",
    "\n",
    "    def find(self, x):\n",
    "        # Heuristic: Path Compression\n",
    "        if self.parent[x] != x:\n",
    "            self.parent[x] = self.find(self.parent[x])  # Path compression\n",
    "        return self.parent[x]\n",
    "\n",
    "    def union(self, x, y):\n",
    "        rootX = self.find(x)\n",
    "        rootY = self.find(y)\n",
    "\n",
    "        if rootX != rootY:\n",
    "            # Heuristic: Union by Rank\n",
    "            if self.rank[rootX] > self.rank[rootY]:\n",
    "                self.parent[rootY] = rootX\n",
    "            elif self.rank[rootX] < self.rank[rootY]:\n",
    "                self.parent[rootX] = rootY\n",
    "            else:\n",
    "                self.parent[rootY] = rootX\n",
    "                self.rank[rootX] += 1\n",
    "\n",
    "def kruskal(n, edges):\n",
    "    ds = DisjointSet(n)\n",
    "    mst = []\n",
    "    total_weight = 0  # Initialize total weight of the MST\n",
    "    edges.sort(key=lambda x: x[2])  # Sort edges by weight\n",
    "\n",
    "    for u, v, weight in edges:\n",
    "        if ds.find(u) != ds.find(v):\n",
    "            ds.union(u, v)\n",
    "            mst.append((u, v, weight))\n",
    "            total_weight += weight  # Add the weight of the edge to total weight\n",
    "\n",
    "    return mst, total_weight  # Return MST and total weight\n",
    "\n",
    "# Ask user for input\n",
    "print(\"Name: Tanushri Kharkar\")\n",
    "\n",
    "n = int(input(\"Enter the number of vertices: \"))\n",
    "e = int(input(\"Enter the number of edges: \"))\n",
    "\n",
    "edges = []\n",
    "for _ in range(e):\n",
    "    u, v, weight = map(int, input(\"Enter edge (u v weight): \").split())\n",
    "    # No need to adjust the index here, as we are working directly with 0-based indexing\n",
    "    edges.append((u, v, weight))\n",
    "\n",
    "# Running Kruskal's algorithm\n",
    "mst, total_weight = kruskal(n, edges)\n",
    "\n",
    "# Output the MST\n",
    "print(\"Minimum Spanning Tree using Kruskal's Algorithm:\", mst)\n",
    "\n",
    "# Output the total cost of the MST\n",
    "print(f\"Total cost of the Minimum Spanning Tree: {total_weight}\")\n",
    "\n",
    "# Print the expression for Kruskal's Algorithm\n",
    "print(\"\\nExpression for Edge Selection in Kruskal's Algorithm:\")\n",
    "print(\"f(u, v) = w(u, v) if find(u) != find(v)\")"
   ]
  },
  {
   "cell_type": "code",
   "execution_count": null,
   "id": "861c4e2a-635f-47f4-a27f-89a9f82ed70f",
   "metadata": {},
   "outputs": [],
   "source": []
  },
  {
   "cell_type": "code",
   "execution_count": null,
   "id": "affe50fa-c6d0-4611-a5cb-f7d6409705d7",
   "metadata": {},
   "outputs": [],
   "source": []
  }
 ],
 "metadata": {
  "kernelspec": {
   "display_name": "Python 3 (ipykernel)",
   "language": "python",
   "name": "python3"
  },
  "language_info": {
   "codemirror_mode": {
    "name": "ipython",
    "version": 3
   },
   "file_extension": ".py",
   "mimetype": "text/x-python",
   "name": "python",
   "nbconvert_exporter": "python",
   "pygments_lexer": "ipython3",
   "version": "3.12.0"
  }
 },
 "nbformat": 4,
 "nbformat_minor": 5
}
