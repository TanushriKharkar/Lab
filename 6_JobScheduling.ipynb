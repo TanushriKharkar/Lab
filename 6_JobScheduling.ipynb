{
 "cells": [
  {
   "cell_type": "code",
   "execution_count": null,
   "id": "c97a818c-e68b-42d1-bd64-e2b35db8cd15",
   "metadata": {},
   "outputs": [
    {
     "name": "stdout",
     "output_type": "stream",
     "text": [
      "\n",
      "Name: Tanushri Kharkar\n"
     ]
    },
    {
     "name": "stdin",
     "output_type": "stream",
     "text": [
      "Enter the number of jobs:  2\n",
      "Enter the profit of job 1:  200\n",
      "Enter the name of job 1:  j1\n",
      "Enter the deadline of job 1:  3\n",
      "Enter the profit of job 2:  10\n"
     ]
    }
   ],
   "source": [
    "print(\"\\nName: Tanushri Kharkar\")\n",
    "\n",
    "\n",
    "# Job Scheduling Logic\n",
    "profit = []\n",
    "jobs = []\n",
    "deadline = []\n",
    "\n",
    "n = int(input(\"Enter the number of jobs: \"))\n",
    "\n",
    "for i in range(n):\n",
    "    p = int(input(\"Enter the profit of job {}: \".format(i+1)))\n",
    "    profit.append(p)\n",
    "    j = input(\"Enter the name of job {}: \".format(i+1))\n",
    "    jobs.append(j)\n",
    "    d = int(input(\"Enter the deadline of job {}: \".format(i+1)))\n",
    "    deadline.append(d)\n",
    "\n",
    "# Combine profit, job name, and deadline into a tuple\n",
    "profitNJobs = list(zip(profit, jobs, deadline))\n",
    "\n",
    "# Sort the jobs by descending profit (Greedy heuristic)\n",
    "profitNJobs = sorted(profitNJobs, key=lambda x: x[0], reverse=True)\n",
    "\n",
    "# Initialize slots and answer array\n",
    "slot = [0] * (n+1)\n",
    "total_profit = 0\n",
    "ans = ['null'] * (n+1)\n",
    "\n",
    "# Greedy Job Scheduling\n",
    "for i in range(n):\n",
    "    job = profitNJobs[i]\n",
    "    for j in range(job[2], 0, -1):\n",
    "        if slot[j] == 0:\n",
    "            ans[j] = job[1]\n",
    "            total_profit += job[0]\n",
    "            slot[j] = 1\n",
    "            break\n",
    "\n",
    "# Final output\n",
    "print(\"\\nJobs scheduled:\", ans[1:])\n",
    "print(\"Total profit:\", total_profit)\n",
    "\n",
    "# Heuristic explanation\n",
    "print(\"\\nHeuristic Function Used:\")\n",
    "print(\"f(job) = profit of the job\")\n",
    "print(\"Jobs are scheduled greedily by selecting the job with highest profit first\")\n",
    "print(\"and placing it in the latest available slot before its deadline.\")\n"
   ]
  },
  {
   "cell_type": "code",
   "execution_count": null,
   "id": "1f522a52-517d-44cc-b5d5-a04a838339b1",
   "metadata": {},
   "outputs": [],
   "source": []
  }
 ],
 "metadata": {
  "kernelspec": {
   "display_name": "Python 3 (ipykernel)",
   "language": "python",
   "name": "python3"
  },
  "language_info": {
   "codemirror_mode": {
    "name": "ipython",
    "version": 3
   },
   "file_extension": ".py",
   "mimetype": "text/x-python",
   "name": "python",
   "nbconvert_exporter": "python",
   "pygments_lexer": "ipython3",
   "version": "3.12.0"
  }
 },
 "nbformat": 4,
 "nbformat_minor": 5
}
