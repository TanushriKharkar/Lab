{
 "cells": [
  {
   "cell_type": "markdown",
   "metadata": {},
   "source": [
    "### Branch and Bound CSP nqueens"
   ]
  },
  {
   "cell_type": "code",
   "execution_count": 1,
   "metadata": {},
   "outputs": [
    {
     "name": "stdout",
     "output_type": "stream",
     "text": [
      "Name: Tanushri Kharkar\n"
     ]
    },
    {
     "name": "stdin",
     "output_type": "stream",
     "text": [
      "Enter the number of Queens:  8\n"
     ]
    },
    {
     "name": "stdout",
     "output_type": "stream",
     "text": [
      "1 0 0 0 0 0 0 0\n",
      "0 0 0 0 1 0 0 0\n",
      "0 0 0 0 0 0 0 1\n",
      "0 0 0 0 0 1 0 0\n",
      "0 0 1 0 0 0 0 0\n",
      "0 0 0 0 0 0 1 0\n",
      "0 1 0 0 0 0 0 0\n",
      "0 0 0 1 0 0 0 0\n"
     ]
    }
   ],
   "source": [
    "def is_safe(arr, x, y, n):\n",
    "    for row in range(x):\n",
    "        if arr[row][y] == 1:\n",
    "            return False\n",
    "\n",
    "    row, col = x, y\n",
    "    while row >= 0 and col >= 0:\n",
    "        if arr[row][col] == 1:\n",
    "            return False\n",
    "        row -= 1\n",
    "        col -= 1\n",
    "\n",
    "    row, col = x, y\n",
    "    while row >= 0 and col < n:\n",
    "        if arr[row][col] == 1:\n",
    "            return False\n",
    "        row -= 1\n",
    "        col += 1\n",
    "\n",
    "    return True\n",
    "\n",
    "def branch_and_bound_nqueen(arr, x, n):\n",
    "    if x >= n:\n",
    "        return True\n",
    "\n",
    "    for col in range(n):\n",
    "        if is_safe(arr, x, col, n):\n",
    "            arr[x][col] = 1\n",
    "            if branch_and_bound_nqueen(arr, x + 1, n):\n",
    "                return True\n",
    "            arr[x][col] = 0\n",
    "    return False\n",
    "\n",
    "def main():\n",
    "    print(\"Name: Tanushri Kharkar\")\n",
    " \n",
    "    n = int(input(\"Enter the number of Queens: \"))\n",
    "    arr = [[0] * n for _ in range(n)]\n",
    "    if branch_and_bound_nqueen(arr, 0, n):\n",
    "        for row in arr:\n",
    "            print(' '.join(str(cell) for cell in row))\n",
    "    else:\n",
    "        print(\"No solution found.\")\n",
    "\n",
    "if __name__ == '__main__':\n",
    "    main()\n"
   ]
  },
  {
   "cell_type": "code",
   "execution_count": null,
   "metadata": {},
   "outputs": [],
   "source": []
  }
 ],
 "metadata": {
  "kernelspec": {
   "display_name": "Python 3 (ipykernel)",
   "language": "python",
   "name": "python3"
  },
  "language_info": {
   "codemirror_mode": {
    "name": "ipython",
    "version": 3
   },
   "file_extension": ".py",
   "mimetype": "text/x-python",
   "name": "python",
   "nbconvert_exporter": "python",
   "pygments_lexer": "ipython3",
   "version": "3.12.0"
  }
 },
 "nbformat": 4,
 "nbformat_minor": 4
}
