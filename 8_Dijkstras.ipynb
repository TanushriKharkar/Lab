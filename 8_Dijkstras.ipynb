{
 "cells": [
  {
   "cell_type": "code",
   "execution_count": null,
   "id": "2181a7de-43d3-43c4-a3be-2b394c1b5647",
   "metadata": {},
   "outputs": [
    {
     "name": "stdout",
     "output_type": "stream",
     "text": [
      "\n",
      "Name: Tanushri Kharkar\n"
     ]
    },
    {
     "name": "stdin",
     "output_type": "stream",
     "text": [
      "Enter the number of vertices:  5\n"
     ]
    },
    {
     "name": "stdout",
     "output_type": "stream",
     "text": [
      "Enter the adjacency matrix row by row (use 0 for no edge):\n"
     ]
    },
    {
     "name": "stdin",
     "output_type": "stream",
     "text": [
      "Row 0:  0 2 4 0 0\n",
      "Row 1:  2 0 3 7 0\n",
      "Row 2:  4 3 0 1 5\n",
      "Row 3:  0 7 1 0 3\n"
     ]
    }
   ],
   "source": [
    "import sys\n",
    "\n",
    "class Graph:\n",
    "    def __init__(self, vertices):\n",
    "        self.V = vertices\n",
    "        self.graph = [[0 for column in range(vertices)] for row in range(vertices)]\n",
    "\n",
    "    def printSolution(self, dist):\n",
    "        print(\"\\nVertex \\tDistance from Source\")\n",
    "        for node in range(self.V):\n",
    "            print(f\"{node} \\t {dist[node]}\")\n",
    "\n",
    "    def minDistance(self, dist, sptSet):\n",
    "        min_val = sys.maxsize\n",
    "        min_index = -1\n",
    "\n",
    "        for u in range(self.V):\n",
    "            if dist[u] < min_val and not sptSet[u]:\n",
    "                min_val = dist[u]\n",
    "                min_index = u\n",
    "\n",
    "        return min_index\n",
    "\n",
    "    def dijkstra(self, src):\n",
    "        dist = [sys.maxsize] * self.V\n",
    "        dist[src] = 0\n",
    "        sptSet = [False] * self.V\n",
    "\n",
    "        for _ in range(self.V):\n",
    "            x = self.minDistance(dist, sptSet)\n",
    "            sptSet[x] = True\n",
    "\n",
    "            for y in range(self.V):\n",
    "                if self.graph[x][y] > 0 and not sptSet[y] and dist[y] > dist[x] + self.graph[x][y]:\n",
    "                    dist[y] = dist[x] + self.graph[x][y]\n",
    "\n",
    "        self.printSolution(dist)\n",
    "\n",
    "# ---- Main Execution ----\n",
    "if __name__ == \"__main__\":\n",
    "    # Printing Name and Roll No.\n",
    "    print(\"\\nName: Tanushri Kharkar\")\n",
    "    \n",
    "\n",
    "    vertices = int(input(\"Enter the number of vertices: \"))\n",
    "    graph = []\n",
    "\n",
    "    print(\"Enter the adjacency matrix row by row (use 0 for no edge):\")\n",
    "    for i in range(vertices):\n",
    "        row = list(map(int, input(f\"Row {i}: \").split()))\n",
    "        graph.append(row)\n",
    "\n",
    "    g = Graph(vertices)\n",
    "    g.graph = graph\n",
    "\n",
    "    src = int(input(\"Enter the source vertex: \"))\n",
    "    g.dijkstra(src)\n",
    "\n",
    "    # Heuristic function explanation\n",
    "    print(\"\\nHeuristic Function Used:\")\n",
    "    print(\"This implementation uses Dijkstra's Algorithm, which is a greedy algorithm.\")\n",
    "    print(\"The algorithm selects the unvisited node with the minimum known distance from the source node.\")\n",
    "    print(\"Function minimized: f(node) = g(node)\")\n",
    "    print(\"Where g(node) is the actual shortest distance from the source node to the current node.\")\n"
   ]
  },
  {
   "cell_type": "code",
   "execution_count": null,
   "id": "c04aee3e-ca9e-4464-9d35-c140aeffc0b5",
   "metadata": {},
   "outputs": [],
   "source": []
  }
 ],
 "metadata": {
  "kernelspec": {
   "display_name": "Python 3 (ipykernel)",
   "language": "python",
   "name": "python3"
  },
  "language_info": {
   "codemirror_mode": {
    "name": "ipython",
    "version": 3
   },
   "file_extension": ".py",
   "mimetype": "text/x-python",
   "name": "python",
   "nbconvert_exporter": "python",
   "pygments_lexer": "ipython3",
   "version": "3.12.0"
  }
 },
 "nbformat": 4,
 "nbformat_minor": 5
}
